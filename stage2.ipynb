{
 "cells": [
  {
   "cell_type": "code",
   "execution_count": 1,
   "metadata": {
    "collapsed": true
   },
   "outputs": [],
   "source": [
    "import pandas as pd\n",
    "from matplotlib import pyplot as plt\n",
    "import numpy as np\n",
    "import scipy as sp\n",
    "%matplotlib inline\n",
    "\n",
    "from numpy.fft import fft, rfft, rfftfreq, irfft\n",
    "import seaborn as sns\n",
    "\n",
    "FD = 2000 # 2кГц - частота дискретизации сигнала"
   ]
  },
  {
   "cell_type": "code",
   "execution_count": 25,
   "metadata": {
    "collapsed": true
   },
   "outputs": [],
   "source": [
    "signal = readSignalFromFile(\"kdms/6.txt\").sig1"
   ]
  },
  {
   "cell_type": "code",
   "execution_count": 7,
   "metadata": {
    "collapsed": false
   },
   "outputs": [],
   "source": [
    "def my_work(signal, lock, storage):\n",
    "    mn, mx = getExtremaSuperFast(signal)\n",
    "    with lock:\n",
    "        storage.append((signal, mn, mx))\n",
    "\n",
    "def parallel_box(work, files):\n",
    "    from threading import Thread, Lock\n",
    "    storage = []\n",
    "    workers = []\n",
    "    lock = Lock()\n",
    "    for file_name in files:\n",
    "        p = Thread(target=my_work, args=(file_name, lock, storage))\n",
    "        p.start()\n",
    "        workers.append(p)\n",
    "    \n",
    "    for worker in workers:\n",
    "        worker.join()\n",
    "    \n",
    "    with lock:\n",
    "        return storage"
   ]
  },
  {
   "cell_type": "code",
   "execution_count": 109,
   "metadata": {
    "collapsed": false
   },
   "outputs": [],
   "source": [
    "from multiprocessing import Pool\n",
    "\n",
    "def poolTest(threads_num, files):\n",
    "    pool = Pool(threads_num)\n",
    "    pool.map(my_work, files)\n",
    "    pool.close()\n",
    "    pool.join()"
   ]
  },
  {
   "cell_type": "code",
   "execution_count": 8,
   "metadata": {
    "collapsed": false
   },
   "outputs": [
    {
     "name": "stdout",
     "output_type": "stream",
     "text": [
      "1 loops, best of 3: 1min 10s per loop\n"
     ]
    }
   ],
   "source": [
    "file_names = [\"kdms/\"+str(i)+\".txt\" for i in range(1, 8)]\n",
    "files = [readSignalFromFile(file_name).sig1 for file_name in file_names]\n",
    "%timeit signals = parallel_box(my_work, files)"
   ]
  },
  {
   "cell_type": "code",
   "execution_count": 107,
   "metadata": {
    "collapsed": false
   },
   "outputs": [
    {
     "name": "stdout",
     "output_type": "stream",
     "text": [
      "1 loops, best of 3: 23.8 s per loop\n"
     ]
    }
   ],
   "source": [
    "file_names = [\"kdms/\"+str(i)+\".txt\" for i in range(1, 8)]\n",
    "files = [readSignalFromFile(file_name).sig1 for file_name in file_names]\n",
    "def asUsual():\n",
    "    storage = []\n",
    "    for file_name in files:\n",
    "        mn, mx = getExtremaSuperFast(file_name)\n",
    "        storage.append((signal, mn, mx))\n",
    "%timeit asUsual()"
   ]
  },
  {
   "cell_type": "code",
   "execution_count": null,
   "metadata": {
    "collapsed": false
   },
   "outputs": [],
   "source": [
    "file_names = [\"kdms/\"+str(i)+\".txt\" for i in range(1, 8)]\n",
    "files = [readSignalFromFile(file_name).sig1 for file_name in file_names]\n",
    "%timeit poolTest(8, files)"
   ]
  },
  {
   "cell_type": "markdown",
   "metadata": {},
   "source": [
    "# Инструментарий: используемые функции"
   ]
  },
  {
   "cell_type": "code",
   "execution_count": 5,
   "metadata": {
    "collapsed": false
   },
   "outputs": [],
   "source": [
    "from matplotlib import pyplot as plt\n",
    "import numpy as np\n",
    "import scipy as sp\n",
    "from numpy.fft import fft, rfft, rfftfreq, irfft\n",
    "\n",
    "def drawSignalMxMn(sig, extrema=None):\n",
    "    mn, mx = getExtremaSuperFast(sig) if extrema == None else extrema\n",
    "    plt.figure(figsize=(18, 6))\n",
    "    plt.plot(sig)\n",
    "    plt.scatter(mx, [sig[x] for x in mx], c='r', s=70)\n",
    "    plt.scatter(mx, [sig[x] for x in mn], c='g', s=70)\n",
    "\n",
    "def readSignalFromFile(file_name):\n",
    "    splitted = [s.split() for s in open(file_name, 'r').readlines()]\n",
    "    return pd.DataFrame(splitted, columns=['sig1', 'sig2']).astype(float)\n",
    "\n",
    "def getDefaultPeak():\n",
    "    import pickle\n",
    "    return pickle.load(open('patterns/default_QRS.dump', 'r'))\n",
    "\n",
    "def getExtrema(signal, peak_criterion=0.7, epsilon=10, model=None):\n",
    "    from sklearn.preprocessing import scale\n",
    "    \n",
    "    if (model == None):\n",
    "        model = getDefaultPeak() \n",
    "    scaled = scale(model, with_std=False)\n",
    "    ideal_max = np.argmax(scaled)\n",
    "    ideal_min = np.argmin(scaled)\n",
    "    \n",
    "    win_len = len(model)\n",
    "    corr = []\n",
    "    for i in range(0, len(signal) - win_len):\n",
    "        win = signal[i:i+win_len]\n",
    "        corr.append(np.correlate(scaled, scale(win, with_std = False)))\n",
    "\n",
    "    m = max(corr)\n",
    "    peaks = np.array([x if x > m*peak_criterion else 0 for x in corr]);\n",
    "    \n",
    "    from scipy.signal import argrelextrema\n",
    "    max_peak_points = argrelextrema(peaks, np.greater) + ideal_max\n",
    "    min_peak_points = argrelextrema(peaks, np.greater) + ideal_min\n",
    "    \n",
    "    real_max_peak_points = [np.argmax(signal[x-epsilon : x+epsilon]) - signal.index[0] for x in max_peak_points[0]]\n",
    "    real_min_peak_points = [np.argmin(signal[x-epsilon : x+epsilon]) - signal.index[0] for x in min_peak_points[0]]\n",
    "    \n",
    "    return real_min_peak_points, real_max_peak_points\n",
    "\n",
    "def analyzeLiterals(s, mn, mx):\n",
    "    periods = []\n",
    "    delta_periods = []\n",
    "    amplitudes = []#[s[mx[0]] - s[mn[0]]]\n",
    "    delta_amplitudes = []\n",
    "    angles = []\n",
    "    delta_angles = []\n",
    "    abs_deltas = []\n",
    "    for i in range(len(mx)-1):\n",
    "        p = mx[i+1]-mx[i]\n",
    "        periods.append(np.abs(p))\n",
    "        am = np.abs(s[mx[i]] - s[mn[i]])\n",
    "        amplitudes.append(am)\n",
    "        angles.append(float(am)/p)\n",
    "        if (i >= 1):\n",
    "            delta_periods.append((periods[i] - periods[i-1])>=0)\n",
    "            delta_amplitudes.append((amplitudes[i]-amplitudes[i-1])>=0)\n",
    "            abs_deltas.append(np.abs(amplitudes[i]-amplitudes[i-1]))\n",
    "            delta_angles.append((angles[i]-angles[i-1])>=0)\n",
    "    deltas = zip(delta_amplitudes, delta_periods, delta_angles)\n",
    "    \n",
    "    for i in range(len(deltas)):\n",
    "        if ((deltas[i] == (True, False, False)) | (deltas[i]==(False, True, True))):\n",
    "            print deltas[i]\n",
    "            print amplitudes[i-1], amplitudes[i]\n",
    "            print periods[i-1], periods[i]\n",
    "            print angles[i-1], angles[i]\n",
    "    \n",
    "    liters_dict = {\n",
    "        (True, True, True) : \"A\",\n",
    "        (False, False, True) : \"B\",\n",
    "        (True, False, True) : \"C\",\n",
    "        (False, True, False) : \"D\",\n",
    "        (True, True, False) : \"E\",\n",
    "        (False, False, False) : \"F\",\n",
    "        (True, False, False) : \"X\"\n",
    "    }\n",
    "\n",
    "    literals = [liters_dict[c] for c in deltas]\n",
    "    \n",
    "    from collections import Counter\n",
    "    codograms = Counter()\n",
    "    for i in range(len(literals)-3):\n",
    "        win = literals[i:i+3]\n",
    "        code = ''.join(win)\n",
    "        codograms[code] += 1\n",
    "    return codograms, literals, abs_deltas\n",
    "\n",
    "def getMids(points):\n",
    "    prev= points[0]\n",
    "    mids = []\n",
    "    for i in points[1:]:\n",
    "        center = (i + prev)/2\n",
    "        mids.append(center)\n",
    "        prev = i\n",
    "    return mids\n",
    "\n",
    "def deSocket(sig, fd, interval=(40, 60)):\n",
    "    from numpy.fft import rfft, rfftfreq\n",
    "    \n",
    "    #mn, mx = getExtrema(sig, model)\n",
    "    \n",
    "    spectrum = rfft(sig)\n",
    "    x_axis = rfftfreq(len(sig), 1./fd)\n",
    "    a,b = hz(len(sig), fd, interval[0], interval[1])\n",
    "    w = np.argmax(np.abs(spectrum[a:b])) #частота \n",
    "    A = spectrum[a+w]/len(sig) #амплитутда\n",
    "    \n",
    "    def cos_to_remove(x):\n",
    "        return (2.)*A*np.exp(2*1j*np.pi*(a+w)*(x-len(sig)/2)/len(sig))\n",
    "\n",
    "    cos_graph = [cos_to_remove(x) for x in range(len(sig))]\n",
    "    return cos_graph + sig\n",
    "\n",
    "\n",
    "def deSocketFull(sig, fd, interval=(40, 60), delta=517, border=50):\n",
    "    from numpy.fft import rfft, rfftfreq\n",
    "    \n",
    "    clr_sig = sig.copy()\n",
    "    \n",
    "    mn, mx = getExtrema(clr_sig)\n",
    "    mids1 = getMids(mx)\n",
    "    mx1 = sorted(np.concatenate([mids1, mx]))\n",
    "    mids = getMids(mx1)\n",
    "    for i in range(len(mids)):\n",
    "        sig_part = clr_sig[mids[i]-delta/2 : mids[i]+delta/2]\n",
    "        spectrum = rfft(sig_part)\n",
    "        x_axis = rfftfreq(len(sig_part), 1./fd)\n",
    "        a,b = hz(len(sig_part), fd, interval[0], interval[1])\n",
    "        w = np.argmax(np.abs(spectrum[a:b])) #частота \n",
    "        A = spectrum[a+w]/len(sig_part) #амплитутда\n",
    "\n",
    "        def cos_to_remove(x):\n",
    "            return (2.)*A*np.exp(2*1j*np.pi*(a+w)*(x)/len(sig_part))\n",
    "\n",
    "        left = mids[i]-delta/2-200\n",
    "        right = mids[i]+delta/2+200\n",
    "        #cos_graph = [cos_to_remove(x) for x in range(len(sig[mx[i]:mx[i+1]]) + 2*border)]\n",
    "        cos_graph = [cos_to_remove(x) for x in range(-(right-left)/2, (right-left)/2)]\n",
    "        \n",
    "        graph_len = len(cos_graph) -1\n",
    "        \n",
    "        scale = border\n",
    "        for j in range(scale):\n",
    "            cos_graph[j] *= float(j)/(scale)\n",
    "            cos_graph[graph_len-j] *= float(j)/(scale)\n",
    "        \n",
    "        clr_sig[left:right] += np.real(cos_graph)\n",
    "        start_index = clr_sig.index[0]\n",
    "    return clr_sig, mn + start_index, mx + start_index\n",
    "\n",
    "def getExtremaSuperFast(signal2, scan_area = 700, sdf_area = 6000, abs_indexes=False):\n",
    "    from sklearn.preprocessing import scale\n",
    "    mn, mx = getExtrema(signal2[:sdf_area])\n",
    "    signal = signal2.values\n",
    "    \n",
    "    delta_max = []\n",
    "    for i in range(1, len(mx)):\n",
    "        delta_max.append(mx[i] - mx[i-1])\n",
    "    \n",
    "    delta_min = []\n",
    "    for i in range(1, len(mn)):\n",
    "        delta_min.append(mn[i] - mn[i-1])\n",
    "        \n",
    "    mean_delta_max = int(np.mean(delta_max))\n",
    "    mean_delta_min = int(np.mean(delta_min))\n",
    "    \n",
    "    max_center =  mx[-1] + mean_delta_max\n",
    "    min_center =  mn[-1] + mean_delta_min\n",
    "    while ((max_center < len(signal)) & (min_center < len(signal))):\n",
    "        current_max = max_center - scan_area/2 + np.argmax(scale(signal[max_center - scan_area/2 : max_center + scan_area/2], with_std = False))\n",
    "        current_min = min_center - scan_area/2 + np.argmin(scale(signal[min_center - scan_area/2 : min_center + scan_area/2], with_std = False))\n",
    "        delta_max = delta_max[1:]\n",
    "        delta_max.append(current_max - mx[-1])\n",
    "        delta_min = delta_min[1:]\n",
    "        delta_min.append(current_min - mn[-1])\n",
    "        #mean_delta_max = int(np.mean([mean_delta_max, current_max - mx[-1]]))\n",
    "        #mean_delta_min = int(np.mean([mean_delta_min, current_min - mn[-1]]))\n",
    "        mx.append(current_max)\n",
    "        mn.append(current_min)\n",
    "        max_center = current_max + int(np.mean(delta_max))\n",
    "        min_center = current_min + int(np.mean(delta_min))\n",
    "        #max_center =  current_max + mean_delta_max\n",
    "        #min_center =  current_min + mean_delta_min\n",
    "    \n",
    "    \n",
    "    mx = [i + signal2.index[0] for i in mx]\n",
    "    mn = [i + signal2.index[0] for i in mn]\n",
    "    return mn, mx"
   ]
  }
 ],
 "metadata": {
  "kernelspec": {
   "display_name": "Python 2",
   "language": "python",
   "name": "python2"
  },
  "language_info": {
   "codemirror_mode": {
    "name": "ipython",
    "version": 2
   },
   "file_extension": ".py",
   "mimetype": "text/x-python",
   "name": "python",
   "nbconvert_exporter": "python",
   "pygments_lexer": "ipython2",
   "version": "2.7.11"
  }
 },
 "nbformat": 4,
 "nbformat_minor": 0
}
